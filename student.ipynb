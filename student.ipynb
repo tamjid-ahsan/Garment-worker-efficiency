{
 "cells": [
  {
   "cell_type": "markdown",
   "metadata": {
    "ExecuteTime": {
     "end_time": "2021-05-14T20:13:04.538087Z",
     "start_time": "2021-05-14T20:13:04.486080Z"
    }
   },
   "source": [
    "# INTRODUCTION"
   ]
  },
  {
   "cell_type": "code",
   "execution_count": null,
   "metadata": {},
   "outputs": [],
   "source": []
  },
  {
   "cell_type": "markdown",
   "metadata": {},
   "source": [
    "# BUSINESS PROBLEM"
   ]
  },
  {
   "cell_type": "code",
   "execution_count": null,
   "metadata": {},
   "outputs": [],
   "source": []
  },
  {
   "cell_type": "markdown",
   "metadata": {},
   "source": [
    "# IMPORTS"
   ]
  },
  {
   "cell_type": "code",
   "execution_count": 24,
   "metadata": {
    "ExecuteTime": {
     "end_time": "2021-05-14T20:28:04.850647Z",
     "start_time": "2021-05-14T20:28:04.788637Z"
    }
   },
   "outputs": [],
   "source": [
    "# core operational packeges\n",
    "import os\n",
    "import warnings\n",
    "# data manupulation\n",
    "import pandas as pd\n",
    "pd.set_option('display.max_columns',0)\n",
    "import numpy as np\n",
    "\n",
    "# plotting\n",
    "import matplotlib.pyplot as plt\n",
    "%matplotlib inline\n",
    "import seaborn as sns\n",
    "import plotly.graph_objs as go\n",
    "import plotly.express as px"
   ]
  },
  {
   "cell_type": "code",
   "execution_count": 56,
   "metadata": {
    "ExecuteTime": {
     "end_time": "2021-05-14T20:54:39.482980Z",
     "start_time": "2021-05-14T20:54:39.422967Z"
    }
   },
   "outputs": [],
   "source": [
    "from sklearn.model_selection import train_test_split"
   ]
  },
  {
   "cell_type": "code",
   "execution_count": 52,
   "metadata": {
    "ExecuteTime": {
     "end_time": "2021-05-14T20:43:18.831414Z",
     "start_time": "2021-05-14T20:43:18.766118Z"
    }
   },
   "outputs": [
    {
     "name": "stdout",
     "output_type": "stream",
     "text": [
      "The autoreload extension is already loaded. To reload it, use:\n",
      "  %reload_ext autoreload\n"
     ]
    }
   ],
   "source": [
    "# custom functions loader\n",
    "%load_ext autoreload\n",
    "%autoreload 2\n",
    "import functions as fun\n",
    "\n",
    "# notebook styling packages\n",
    "from jupyterthemes import jtplot\n",
    "jtplot.style(theme='monokai', context='notebook', ticks='True', grid='False')\n",
    "## to reset to default theme\n",
    "# jtplot.reset()"
   ]
  },
  {
   "cell_type": "markdown",
   "metadata": {},
   "source": [
    "# OBTAIN"
   ]
  },
  {
   "cell_type": "code",
   "execution_count": null,
   "metadata": {},
   "outputs": [],
   "source": []
  },
  {
   "cell_type": "markdown",
   "metadata": {},
   "source": [
    "# SCRUB & EXPLORE"
   ]
  },
  {
   "cell_type": "code",
   "execution_count": 26,
   "metadata": {
    "ExecuteTime": {
     "end_time": "2021-05-14T20:28:04.976738Z",
     "start_time": "2021-05-14T20:28:04.916664Z"
    }
   },
   "outputs": [],
   "source": [
    "# loading data\n",
    "df = pd.read_csv('./data/garments_worker_productivity.csv')"
   ]
  },
  {
   "cell_type": "code",
   "execution_count": 27,
   "metadata": {
    "ExecuteTime": {
     "end_time": "2021-05-14T20:28:05.056750Z",
     "start_time": "2021-05-14T20:28:04.978720Z"
    }
   },
   "outputs": [
    {
     "data": {
      "text/html": [
       "<div>\n",
       "<style scoped>\n",
       "    .dataframe tbody tr th:only-of-type {\n",
       "        vertical-align: middle;\n",
       "    }\n",
       "\n",
       "    .dataframe tbody tr th {\n",
       "        vertical-align: top;\n",
       "    }\n",
       "\n",
       "    .dataframe thead th {\n",
       "        text-align: right;\n",
       "    }\n",
       "</style>\n",
       "<table border=\"1\" class=\"dataframe\">\n",
       "  <thead>\n",
       "    <tr style=\"text-align: right;\">\n",
       "      <th></th>\n",
       "      <th>date</th>\n",
       "      <th>quarter</th>\n",
       "      <th>department</th>\n",
       "      <th>day</th>\n",
       "      <th>team</th>\n",
       "      <th>targeted_productivity</th>\n",
       "      <th>smv</th>\n",
       "      <th>wip</th>\n",
       "      <th>over_time</th>\n",
       "      <th>incentive</th>\n",
       "      <th>idle_time</th>\n",
       "      <th>idle_men</th>\n",
       "      <th>no_of_style_change</th>\n",
       "      <th>no_of_workers</th>\n",
       "      <th>actual_productivity</th>\n",
       "    </tr>\n",
       "  </thead>\n",
       "  <tbody>\n",
       "    <tr>\n",
       "      <th>0</th>\n",
       "      <td>1/1/2015</td>\n",
       "      <td>Quarter1</td>\n",
       "      <td>sweing</td>\n",
       "      <td>Thursday</td>\n",
       "      <td>8</td>\n",
       "      <td>0.80</td>\n",
       "      <td>26.16</td>\n",
       "      <td>1108.0</td>\n",
       "      <td>7080</td>\n",
       "      <td>98</td>\n",
       "      <td>0.0</td>\n",
       "      <td>0</td>\n",
       "      <td>0</td>\n",
       "      <td>59.0</td>\n",
       "      <td>0.940725</td>\n",
       "    </tr>\n",
       "    <tr>\n",
       "      <th>1</th>\n",
       "      <td>1/1/2015</td>\n",
       "      <td>Quarter1</td>\n",
       "      <td>finishing</td>\n",
       "      <td>Thursday</td>\n",
       "      <td>1</td>\n",
       "      <td>0.75</td>\n",
       "      <td>3.94</td>\n",
       "      <td>NaN</td>\n",
       "      <td>960</td>\n",
       "      <td>0</td>\n",
       "      <td>0.0</td>\n",
       "      <td>0</td>\n",
       "      <td>0</td>\n",
       "      <td>8.0</td>\n",
       "      <td>0.886500</td>\n",
       "    </tr>\n",
       "    <tr>\n",
       "      <th>2</th>\n",
       "      <td>1/1/2015</td>\n",
       "      <td>Quarter1</td>\n",
       "      <td>sweing</td>\n",
       "      <td>Thursday</td>\n",
       "      <td>11</td>\n",
       "      <td>0.80</td>\n",
       "      <td>11.41</td>\n",
       "      <td>968.0</td>\n",
       "      <td>3660</td>\n",
       "      <td>50</td>\n",
       "      <td>0.0</td>\n",
       "      <td>0</td>\n",
       "      <td>0</td>\n",
       "      <td>30.5</td>\n",
       "      <td>0.800570</td>\n",
       "    </tr>\n",
       "    <tr>\n",
       "      <th>3</th>\n",
       "      <td>1/1/2015</td>\n",
       "      <td>Quarter1</td>\n",
       "      <td>sweing</td>\n",
       "      <td>Thursday</td>\n",
       "      <td>12</td>\n",
       "      <td>0.80</td>\n",
       "      <td>11.41</td>\n",
       "      <td>968.0</td>\n",
       "      <td>3660</td>\n",
       "      <td>50</td>\n",
       "      <td>0.0</td>\n",
       "      <td>0</td>\n",
       "      <td>0</td>\n",
       "      <td>30.5</td>\n",
       "      <td>0.800570</td>\n",
       "    </tr>\n",
       "    <tr>\n",
       "      <th>4</th>\n",
       "      <td>1/1/2015</td>\n",
       "      <td>Quarter1</td>\n",
       "      <td>sweing</td>\n",
       "      <td>Thursday</td>\n",
       "      <td>6</td>\n",
       "      <td>0.80</td>\n",
       "      <td>25.90</td>\n",
       "      <td>1170.0</td>\n",
       "      <td>1920</td>\n",
       "      <td>50</td>\n",
       "      <td>0.0</td>\n",
       "      <td>0</td>\n",
       "      <td>0</td>\n",
       "      <td>56.0</td>\n",
       "      <td>0.800382</td>\n",
       "    </tr>\n",
       "  </tbody>\n",
       "</table>\n",
       "</div>"
      ],
      "text/plain": [
       "       date   quarter  ... no_of_workers actual_productivity\n",
       "0  1/1/2015  Quarter1  ...          59.0            0.940725\n",
       "1  1/1/2015  Quarter1  ...           8.0            0.886500\n",
       "2  1/1/2015  Quarter1  ...          30.5            0.800570\n",
       "3  1/1/2015  Quarter1  ...          30.5            0.800570\n",
       "4  1/1/2015  Quarter1  ...          56.0            0.800382\n",
       "\n",
       "[5 rows x 15 columns]"
      ]
     },
     "execution_count": 27,
     "metadata": {},
     "output_type": "execute_result"
    }
   ],
   "source": [
    "df.head()"
   ]
  },
  {
   "cell_type": "code",
   "execution_count": 28,
   "metadata": {
    "ExecuteTime": {
     "end_time": "2021-05-14T20:28:05.120752Z",
     "start_time": "2021-05-14T20:28:05.057746Z"
    }
   },
   "outputs": [
    {
     "data": {
      "text/plain": [
       "date                      object\n",
       "quarter                   object\n",
       "department                object\n",
       "day                       object\n",
       "team                       int64\n",
       "targeted_productivity    float64\n",
       "smv                      float64\n",
       "wip                      float64\n",
       "over_time                  int64\n",
       "incentive                  int64\n",
       "idle_time                float64\n",
       "idle_men                   int64\n",
       "no_of_style_change         int64\n",
       "no_of_workers            float64\n",
       "actual_productivity      float64\n",
       "dtype: object"
      ]
     },
     "execution_count": 28,
     "metadata": {},
     "output_type": "execute_result"
    }
   ],
   "source": [
    "df.dtypes"
   ]
  },
  {
   "cell_type": "code",
   "execution_count": 29,
   "metadata": {
    "ExecuteTime": {
     "end_time": "2021-05-14T20:28:05.200769Z",
     "start_time": "2021-05-14T20:28:05.122751Z"
    }
   },
   "outputs": [
    {
     "data": {
      "text/html": [
       "<div>\n",
       "<style scoped>\n",
       "    .dataframe tbody tr th:only-of-type {\n",
       "        vertical-align: middle;\n",
       "    }\n",
       "\n",
       "    .dataframe tbody tr th {\n",
       "        vertical-align: top;\n",
       "    }\n",
       "\n",
       "    .dataframe thead th {\n",
       "        text-align: right;\n",
       "    }\n",
       "</style>\n",
       "<table border=\"1\" class=\"dataframe\">\n",
       "  <thead>\n",
       "    <tr style=\"text-align: right;\">\n",
       "      <th></th>\n",
       "      <th>name</th>\n",
       "      <th>is_null</th>\n",
       "      <th>not_null</th>\n",
       "    </tr>\n",
       "  </thead>\n",
       "  <tbody>\n",
       "    <tr>\n",
       "      <th>0</th>\n",
       "      <td>date</td>\n",
       "      <td>0</td>\n",
       "      <td>1197</td>\n",
       "    </tr>\n",
       "    <tr>\n",
       "      <th>1</th>\n",
       "      <td>quarter</td>\n",
       "      <td>0</td>\n",
       "      <td>1197</td>\n",
       "    </tr>\n",
       "    <tr>\n",
       "      <th>2</th>\n",
       "      <td>department</td>\n",
       "      <td>0</td>\n",
       "      <td>1197</td>\n",
       "    </tr>\n",
       "    <tr>\n",
       "      <th>3</th>\n",
       "      <td>day</td>\n",
       "      <td>0</td>\n",
       "      <td>1197</td>\n",
       "    </tr>\n",
       "    <tr>\n",
       "      <th>4</th>\n",
       "      <td>team</td>\n",
       "      <td>0</td>\n",
       "      <td>1197</td>\n",
       "    </tr>\n",
       "    <tr>\n",
       "      <th>5</th>\n",
       "      <td>targeted_productivity</td>\n",
       "      <td>0</td>\n",
       "      <td>1197</td>\n",
       "    </tr>\n",
       "    <tr>\n",
       "      <th>6</th>\n",
       "      <td>smv</td>\n",
       "      <td>0</td>\n",
       "      <td>1197</td>\n",
       "    </tr>\n",
       "    <tr>\n",
       "      <th>7</th>\n",
       "      <td>wip</td>\n",
       "      <td>506</td>\n",
       "      <td>691</td>\n",
       "    </tr>\n",
       "    <tr>\n",
       "      <th>8</th>\n",
       "      <td>over_time</td>\n",
       "      <td>0</td>\n",
       "      <td>1197</td>\n",
       "    </tr>\n",
       "    <tr>\n",
       "      <th>9</th>\n",
       "      <td>incentive</td>\n",
       "      <td>0</td>\n",
       "      <td>1197</td>\n",
       "    </tr>\n",
       "    <tr>\n",
       "      <th>10</th>\n",
       "      <td>idle_time</td>\n",
       "      <td>0</td>\n",
       "      <td>1197</td>\n",
       "    </tr>\n",
       "    <tr>\n",
       "      <th>11</th>\n",
       "      <td>idle_men</td>\n",
       "      <td>0</td>\n",
       "      <td>1197</td>\n",
       "    </tr>\n",
       "    <tr>\n",
       "      <th>12</th>\n",
       "      <td>no_of_style_change</td>\n",
       "      <td>0</td>\n",
       "      <td>1197</td>\n",
       "    </tr>\n",
       "    <tr>\n",
       "      <th>13</th>\n",
       "      <td>no_of_workers</td>\n",
       "      <td>0</td>\n",
       "      <td>1197</td>\n",
       "    </tr>\n",
       "    <tr>\n",
       "      <th>14</th>\n",
       "      <td>actual_productivity</td>\n",
       "      <td>0</td>\n",
       "      <td>1197</td>\n",
       "    </tr>\n",
       "  </tbody>\n",
       "</table>\n",
       "</div>"
      ],
      "text/plain": [
       "                     name  is_null  not_null\n",
       "0                    date        0      1197\n",
       "1                 quarter        0      1197\n",
       "2              department        0      1197\n",
       "3                     day        0      1197\n",
       "4                    team        0      1197\n",
       "5   targeted_productivity        0      1197\n",
       "6                     smv        0      1197\n",
       "7                     wip      506       691\n",
       "8               over_time        0      1197\n",
       "9               incentive        0      1197\n",
       "10              idle_time        0      1197\n",
       "11               idle_men        0      1197\n",
       "12     no_of_style_change        0      1197\n",
       "13          no_of_workers        0      1197\n",
       "14    actual_productivity        0      1197"
      ]
     },
     "execution_count": 29,
     "metadata": {},
     "output_type": "execute_result"
    }
   ],
   "source": [
    "fun.check_NaN(df)"
   ]
  },
  {
   "cell_type": "code",
   "execution_count": 30,
   "metadata": {
    "ExecuteTime": {
     "end_time": "2021-05-14T20:28:05.278787Z",
     "start_time": "2021-05-14T20:28:05.202771Z"
    }
   },
   "outputs": [
    {
     "data": {
      "text/html": [
       "<div>\n",
       "<style scoped>\n",
       "    .dataframe tbody tr th:only-of-type {\n",
       "        vertical-align: middle;\n",
       "    }\n",
       "\n",
       "    .dataframe tbody tr th {\n",
       "        vertical-align: top;\n",
       "    }\n",
       "\n",
       "    .dataframe thead th {\n",
       "        text-align: right;\n",
       "    }\n",
       "</style>\n",
       "<table border=\"1\" class=\"dataframe\">\n",
       "  <thead>\n",
       "    <tr style=\"text-align: right;\">\n",
       "      <th></th>\n",
       "      <th>name</th>\n",
       "      <th>duplicated</th>\n",
       "      <th>not_duplicated</th>\n",
       "    </tr>\n",
       "  </thead>\n",
       "  <tbody>\n",
       "    <tr>\n",
       "      <th>0</th>\n",
       "      <td>date</td>\n",
       "      <td>1138</td>\n",
       "      <td>59</td>\n",
       "    </tr>\n",
       "    <tr>\n",
       "      <th>1</th>\n",
       "      <td>quarter</td>\n",
       "      <td>1192</td>\n",
       "      <td>5</td>\n",
       "    </tr>\n",
       "    <tr>\n",
       "      <th>2</th>\n",
       "      <td>department</td>\n",
       "      <td>1194</td>\n",
       "      <td>3</td>\n",
       "    </tr>\n",
       "    <tr>\n",
       "      <th>3</th>\n",
       "      <td>day</td>\n",
       "      <td>1191</td>\n",
       "      <td>6</td>\n",
       "    </tr>\n",
       "    <tr>\n",
       "      <th>4</th>\n",
       "      <td>team</td>\n",
       "      <td>1185</td>\n",
       "      <td>12</td>\n",
       "    </tr>\n",
       "    <tr>\n",
       "      <th>5</th>\n",
       "      <td>targeted_productivity</td>\n",
       "      <td>1188</td>\n",
       "      <td>9</td>\n",
       "    </tr>\n",
       "    <tr>\n",
       "      <th>6</th>\n",
       "      <td>smv</td>\n",
       "      <td>1127</td>\n",
       "      <td>70</td>\n",
       "    </tr>\n",
       "    <tr>\n",
       "      <th>7</th>\n",
       "      <td>wip</td>\n",
       "      <td>648</td>\n",
       "      <td>549</td>\n",
       "    </tr>\n",
       "    <tr>\n",
       "      <th>8</th>\n",
       "      <td>over_time</td>\n",
       "      <td>1054</td>\n",
       "      <td>143</td>\n",
       "    </tr>\n",
       "    <tr>\n",
       "      <th>9</th>\n",
       "      <td>incentive</td>\n",
       "      <td>1149</td>\n",
       "      <td>48</td>\n",
       "    </tr>\n",
       "    <tr>\n",
       "      <th>10</th>\n",
       "      <td>idle_time</td>\n",
       "      <td>1185</td>\n",
       "      <td>12</td>\n",
       "    </tr>\n",
       "    <tr>\n",
       "      <th>11</th>\n",
       "      <td>idle_men</td>\n",
       "      <td>1187</td>\n",
       "      <td>10</td>\n",
       "    </tr>\n",
       "    <tr>\n",
       "      <th>12</th>\n",
       "      <td>no_of_style_change</td>\n",
       "      <td>1194</td>\n",
       "      <td>3</td>\n",
       "    </tr>\n",
       "    <tr>\n",
       "      <th>13</th>\n",
       "      <td>no_of_workers</td>\n",
       "      <td>1136</td>\n",
       "      <td>61</td>\n",
       "    </tr>\n",
       "    <tr>\n",
       "      <th>14</th>\n",
       "      <td>actual_productivity</td>\n",
       "      <td>318</td>\n",
       "      <td>879</td>\n",
       "    </tr>\n",
       "  </tbody>\n",
       "</table>\n",
       "</div>"
      ],
      "text/plain": [
       "                     name  duplicated  not_duplicated\n",
       "0                    date        1138              59\n",
       "1                 quarter        1192               5\n",
       "2              department        1194               3\n",
       "3                     day        1191               6\n",
       "4                    team        1185              12\n",
       "5   targeted_productivity        1188               9\n",
       "6                     smv        1127              70\n",
       "7                     wip         648             549\n",
       "8               over_time        1054             143\n",
       "9               incentive        1149              48\n",
       "10              idle_time        1185              12\n",
       "11               idle_men        1187              10\n",
       "12     no_of_style_change        1194               3\n",
       "13          no_of_workers        1136              61\n",
       "14    actual_productivity         318             879"
      ]
     },
     "execution_count": 30,
     "metadata": {},
     "output_type": "execute_result"
    }
   ],
   "source": [
    "fun.check_duplicates(df, verbose=False)"
   ]
  },
  {
   "cell_type": "code",
   "execution_count": 31,
   "metadata": {
    "ExecuteTime": {
     "end_time": "2021-05-14T20:28:05.358804Z",
     "start_time": "2021-05-14T20:28:05.280789Z"
    }
   },
   "outputs": [
    {
     "data": {
      "text/html": [
       "<style  type=\"text/css\" >\n",
       "</style><table id=\"T_e34d1933_b4f2_11eb_b691_3024a9882581\" ><thead>    <tr>        <th class=\"blank level0\" ></th>        <th class=\"col_heading level0 col0\" >count</th>        <th class=\"col_heading level0 col1\" >mean</th>        <th class=\"col_heading level0 col2\" >std</th>        <th class=\"col_heading level0 col3\" >min</th>        <th class=\"col_heading level0 col4\" >25%</th>        <th class=\"col_heading level0 col5\" >50%</th>        <th class=\"col_heading level0 col6\" >75%</th>        <th class=\"col_heading level0 col7\" >max</th>    </tr></thead><tbody>\n",
       "                <tr>\n",
       "                        <th id=\"T_e34d1933_b4f2_11eb_b691_3024a9882581level0_row0\" class=\"row_heading level0 row0\" >team</th>\n",
       "                        <td id=\"T_e34d1933_b4f2_11eb_b691_3024a9882581row0_col0\" class=\"data row0 col0\" >1,197</td>\n",
       "                        <td id=\"T_e34d1933_b4f2_11eb_b691_3024a9882581row0_col1\" class=\"data row0 col1\" >6</td>\n",
       "                        <td id=\"T_e34d1933_b4f2_11eb_b691_3024a9882581row0_col2\" class=\"data row0 col2\" >3</td>\n",
       "                        <td id=\"T_e34d1933_b4f2_11eb_b691_3024a9882581row0_col3\" class=\"data row0 col3\" >1</td>\n",
       "                        <td id=\"T_e34d1933_b4f2_11eb_b691_3024a9882581row0_col4\" class=\"data row0 col4\" >3</td>\n",
       "                        <td id=\"T_e34d1933_b4f2_11eb_b691_3024a9882581row0_col5\" class=\"data row0 col5\" >6</td>\n",
       "                        <td id=\"T_e34d1933_b4f2_11eb_b691_3024a9882581row0_col6\" class=\"data row0 col6\" >9</td>\n",
       "                        <td id=\"T_e34d1933_b4f2_11eb_b691_3024a9882581row0_col7\" class=\"data row0 col7\" >12</td>\n",
       "            </tr>\n",
       "            <tr>\n",
       "                        <th id=\"T_e34d1933_b4f2_11eb_b691_3024a9882581level0_row1\" class=\"row_heading level0 row1\" >targeted_productivity</th>\n",
       "                        <td id=\"T_e34d1933_b4f2_11eb_b691_3024a9882581row1_col0\" class=\"data row1 col0\" >1,197</td>\n",
       "                        <td id=\"T_e34d1933_b4f2_11eb_b691_3024a9882581row1_col1\" class=\"data row1 col1\" >1</td>\n",
       "                        <td id=\"T_e34d1933_b4f2_11eb_b691_3024a9882581row1_col2\" class=\"data row1 col2\" >0</td>\n",
       "                        <td id=\"T_e34d1933_b4f2_11eb_b691_3024a9882581row1_col3\" class=\"data row1 col3\" >0</td>\n",
       "                        <td id=\"T_e34d1933_b4f2_11eb_b691_3024a9882581row1_col4\" class=\"data row1 col4\" >1</td>\n",
       "                        <td id=\"T_e34d1933_b4f2_11eb_b691_3024a9882581row1_col5\" class=\"data row1 col5\" >1</td>\n",
       "                        <td id=\"T_e34d1933_b4f2_11eb_b691_3024a9882581row1_col6\" class=\"data row1 col6\" >1</td>\n",
       "                        <td id=\"T_e34d1933_b4f2_11eb_b691_3024a9882581row1_col7\" class=\"data row1 col7\" >1</td>\n",
       "            </tr>\n",
       "            <tr>\n",
       "                        <th id=\"T_e34d1933_b4f2_11eb_b691_3024a9882581level0_row2\" class=\"row_heading level0 row2\" >smv</th>\n",
       "                        <td id=\"T_e34d1933_b4f2_11eb_b691_3024a9882581row2_col0\" class=\"data row2 col0\" >1,197</td>\n",
       "                        <td id=\"T_e34d1933_b4f2_11eb_b691_3024a9882581row2_col1\" class=\"data row2 col1\" >15</td>\n",
       "                        <td id=\"T_e34d1933_b4f2_11eb_b691_3024a9882581row2_col2\" class=\"data row2 col2\" >11</td>\n",
       "                        <td id=\"T_e34d1933_b4f2_11eb_b691_3024a9882581row2_col3\" class=\"data row2 col3\" >3</td>\n",
       "                        <td id=\"T_e34d1933_b4f2_11eb_b691_3024a9882581row2_col4\" class=\"data row2 col4\" >4</td>\n",
       "                        <td id=\"T_e34d1933_b4f2_11eb_b691_3024a9882581row2_col5\" class=\"data row2 col5\" >15</td>\n",
       "                        <td id=\"T_e34d1933_b4f2_11eb_b691_3024a9882581row2_col6\" class=\"data row2 col6\" >24</td>\n",
       "                        <td id=\"T_e34d1933_b4f2_11eb_b691_3024a9882581row2_col7\" class=\"data row2 col7\" >55</td>\n",
       "            </tr>\n",
       "            <tr>\n",
       "                        <th id=\"T_e34d1933_b4f2_11eb_b691_3024a9882581level0_row3\" class=\"row_heading level0 row3\" >wip</th>\n",
       "                        <td id=\"T_e34d1933_b4f2_11eb_b691_3024a9882581row3_col0\" class=\"data row3 col0\" >691</td>\n",
       "                        <td id=\"T_e34d1933_b4f2_11eb_b691_3024a9882581row3_col1\" class=\"data row3 col1\" >1,190</td>\n",
       "                        <td id=\"T_e34d1933_b4f2_11eb_b691_3024a9882581row3_col2\" class=\"data row3 col2\" >1,837</td>\n",
       "                        <td id=\"T_e34d1933_b4f2_11eb_b691_3024a9882581row3_col3\" class=\"data row3 col3\" >7</td>\n",
       "                        <td id=\"T_e34d1933_b4f2_11eb_b691_3024a9882581row3_col4\" class=\"data row3 col4\" >774</td>\n",
       "                        <td id=\"T_e34d1933_b4f2_11eb_b691_3024a9882581row3_col5\" class=\"data row3 col5\" >1,039</td>\n",
       "                        <td id=\"T_e34d1933_b4f2_11eb_b691_3024a9882581row3_col6\" class=\"data row3 col6\" >1,252</td>\n",
       "                        <td id=\"T_e34d1933_b4f2_11eb_b691_3024a9882581row3_col7\" class=\"data row3 col7\" >23,122</td>\n",
       "            </tr>\n",
       "            <tr>\n",
       "                        <th id=\"T_e34d1933_b4f2_11eb_b691_3024a9882581level0_row4\" class=\"row_heading level0 row4\" >over_time</th>\n",
       "                        <td id=\"T_e34d1933_b4f2_11eb_b691_3024a9882581row4_col0\" class=\"data row4 col0\" >1,197</td>\n",
       "                        <td id=\"T_e34d1933_b4f2_11eb_b691_3024a9882581row4_col1\" class=\"data row4 col1\" >4,567</td>\n",
       "                        <td id=\"T_e34d1933_b4f2_11eb_b691_3024a9882581row4_col2\" class=\"data row4 col2\" >3,349</td>\n",
       "                        <td id=\"T_e34d1933_b4f2_11eb_b691_3024a9882581row4_col3\" class=\"data row4 col3\" >0</td>\n",
       "                        <td id=\"T_e34d1933_b4f2_11eb_b691_3024a9882581row4_col4\" class=\"data row4 col4\" >1,440</td>\n",
       "                        <td id=\"T_e34d1933_b4f2_11eb_b691_3024a9882581row4_col5\" class=\"data row4 col5\" >3,960</td>\n",
       "                        <td id=\"T_e34d1933_b4f2_11eb_b691_3024a9882581row4_col6\" class=\"data row4 col6\" >6,960</td>\n",
       "                        <td id=\"T_e34d1933_b4f2_11eb_b691_3024a9882581row4_col7\" class=\"data row4 col7\" >25,920</td>\n",
       "            </tr>\n",
       "            <tr>\n",
       "                        <th id=\"T_e34d1933_b4f2_11eb_b691_3024a9882581level0_row5\" class=\"row_heading level0 row5\" >incentive</th>\n",
       "                        <td id=\"T_e34d1933_b4f2_11eb_b691_3024a9882581row5_col0\" class=\"data row5 col0\" >1,197</td>\n",
       "                        <td id=\"T_e34d1933_b4f2_11eb_b691_3024a9882581row5_col1\" class=\"data row5 col1\" >38</td>\n",
       "                        <td id=\"T_e34d1933_b4f2_11eb_b691_3024a9882581row5_col2\" class=\"data row5 col2\" >160</td>\n",
       "                        <td id=\"T_e34d1933_b4f2_11eb_b691_3024a9882581row5_col3\" class=\"data row5 col3\" >0</td>\n",
       "                        <td id=\"T_e34d1933_b4f2_11eb_b691_3024a9882581row5_col4\" class=\"data row5 col4\" >0</td>\n",
       "                        <td id=\"T_e34d1933_b4f2_11eb_b691_3024a9882581row5_col5\" class=\"data row5 col5\" >0</td>\n",
       "                        <td id=\"T_e34d1933_b4f2_11eb_b691_3024a9882581row5_col6\" class=\"data row5 col6\" >50</td>\n",
       "                        <td id=\"T_e34d1933_b4f2_11eb_b691_3024a9882581row5_col7\" class=\"data row5 col7\" >3,600</td>\n",
       "            </tr>\n",
       "            <tr>\n",
       "                        <th id=\"T_e34d1933_b4f2_11eb_b691_3024a9882581level0_row6\" class=\"row_heading level0 row6\" >idle_time</th>\n",
       "                        <td id=\"T_e34d1933_b4f2_11eb_b691_3024a9882581row6_col0\" class=\"data row6 col0\" >1,197</td>\n",
       "                        <td id=\"T_e34d1933_b4f2_11eb_b691_3024a9882581row6_col1\" class=\"data row6 col1\" >1</td>\n",
       "                        <td id=\"T_e34d1933_b4f2_11eb_b691_3024a9882581row6_col2\" class=\"data row6 col2\" >13</td>\n",
       "                        <td id=\"T_e34d1933_b4f2_11eb_b691_3024a9882581row6_col3\" class=\"data row6 col3\" >0</td>\n",
       "                        <td id=\"T_e34d1933_b4f2_11eb_b691_3024a9882581row6_col4\" class=\"data row6 col4\" >0</td>\n",
       "                        <td id=\"T_e34d1933_b4f2_11eb_b691_3024a9882581row6_col5\" class=\"data row6 col5\" >0</td>\n",
       "                        <td id=\"T_e34d1933_b4f2_11eb_b691_3024a9882581row6_col6\" class=\"data row6 col6\" >0</td>\n",
       "                        <td id=\"T_e34d1933_b4f2_11eb_b691_3024a9882581row6_col7\" class=\"data row6 col7\" >300</td>\n",
       "            </tr>\n",
       "            <tr>\n",
       "                        <th id=\"T_e34d1933_b4f2_11eb_b691_3024a9882581level0_row7\" class=\"row_heading level0 row7\" >idle_men</th>\n",
       "                        <td id=\"T_e34d1933_b4f2_11eb_b691_3024a9882581row7_col0\" class=\"data row7 col0\" >1,197</td>\n",
       "                        <td id=\"T_e34d1933_b4f2_11eb_b691_3024a9882581row7_col1\" class=\"data row7 col1\" >0</td>\n",
       "                        <td id=\"T_e34d1933_b4f2_11eb_b691_3024a9882581row7_col2\" class=\"data row7 col2\" >3</td>\n",
       "                        <td id=\"T_e34d1933_b4f2_11eb_b691_3024a9882581row7_col3\" class=\"data row7 col3\" >0</td>\n",
       "                        <td id=\"T_e34d1933_b4f2_11eb_b691_3024a9882581row7_col4\" class=\"data row7 col4\" >0</td>\n",
       "                        <td id=\"T_e34d1933_b4f2_11eb_b691_3024a9882581row7_col5\" class=\"data row7 col5\" >0</td>\n",
       "                        <td id=\"T_e34d1933_b4f2_11eb_b691_3024a9882581row7_col6\" class=\"data row7 col6\" >0</td>\n",
       "                        <td id=\"T_e34d1933_b4f2_11eb_b691_3024a9882581row7_col7\" class=\"data row7 col7\" >45</td>\n",
       "            </tr>\n",
       "            <tr>\n",
       "                        <th id=\"T_e34d1933_b4f2_11eb_b691_3024a9882581level0_row8\" class=\"row_heading level0 row8\" >no_of_style_change</th>\n",
       "                        <td id=\"T_e34d1933_b4f2_11eb_b691_3024a9882581row8_col0\" class=\"data row8 col0\" >1,197</td>\n",
       "                        <td id=\"T_e34d1933_b4f2_11eb_b691_3024a9882581row8_col1\" class=\"data row8 col1\" >0</td>\n",
       "                        <td id=\"T_e34d1933_b4f2_11eb_b691_3024a9882581row8_col2\" class=\"data row8 col2\" >0</td>\n",
       "                        <td id=\"T_e34d1933_b4f2_11eb_b691_3024a9882581row8_col3\" class=\"data row8 col3\" >0</td>\n",
       "                        <td id=\"T_e34d1933_b4f2_11eb_b691_3024a9882581row8_col4\" class=\"data row8 col4\" >0</td>\n",
       "                        <td id=\"T_e34d1933_b4f2_11eb_b691_3024a9882581row8_col5\" class=\"data row8 col5\" >0</td>\n",
       "                        <td id=\"T_e34d1933_b4f2_11eb_b691_3024a9882581row8_col6\" class=\"data row8 col6\" >0</td>\n",
       "                        <td id=\"T_e34d1933_b4f2_11eb_b691_3024a9882581row8_col7\" class=\"data row8 col7\" >2</td>\n",
       "            </tr>\n",
       "            <tr>\n",
       "                        <th id=\"T_e34d1933_b4f2_11eb_b691_3024a9882581level0_row9\" class=\"row_heading level0 row9\" >no_of_workers</th>\n",
       "                        <td id=\"T_e34d1933_b4f2_11eb_b691_3024a9882581row9_col0\" class=\"data row9 col0\" >1,197</td>\n",
       "                        <td id=\"T_e34d1933_b4f2_11eb_b691_3024a9882581row9_col1\" class=\"data row9 col1\" >35</td>\n",
       "                        <td id=\"T_e34d1933_b4f2_11eb_b691_3024a9882581row9_col2\" class=\"data row9 col2\" >22</td>\n",
       "                        <td id=\"T_e34d1933_b4f2_11eb_b691_3024a9882581row9_col3\" class=\"data row9 col3\" >2</td>\n",
       "                        <td id=\"T_e34d1933_b4f2_11eb_b691_3024a9882581row9_col4\" class=\"data row9 col4\" >9</td>\n",
       "                        <td id=\"T_e34d1933_b4f2_11eb_b691_3024a9882581row9_col5\" class=\"data row9 col5\" >34</td>\n",
       "                        <td id=\"T_e34d1933_b4f2_11eb_b691_3024a9882581row9_col6\" class=\"data row9 col6\" >57</td>\n",
       "                        <td id=\"T_e34d1933_b4f2_11eb_b691_3024a9882581row9_col7\" class=\"data row9 col7\" >89</td>\n",
       "            </tr>\n",
       "            <tr>\n",
       "                        <th id=\"T_e34d1933_b4f2_11eb_b691_3024a9882581level0_row10\" class=\"row_heading level0 row10\" >actual_productivity</th>\n",
       "                        <td id=\"T_e34d1933_b4f2_11eb_b691_3024a9882581row10_col0\" class=\"data row10 col0\" >1,197</td>\n",
       "                        <td id=\"T_e34d1933_b4f2_11eb_b691_3024a9882581row10_col1\" class=\"data row10 col1\" >1</td>\n",
       "                        <td id=\"T_e34d1933_b4f2_11eb_b691_3024a9882581row10_col2\" class=\"data row10 col2\" >0</td>\n",
       "                        <td id=\"T_e34d1933_b4f2_11eb_b691_3024a9882581row10_col3\" class=\"data row10 col3\" >0</td>\n",
       "                        <td id=\"T_e34d1933_b4f2_11eb_b691_3024a9882581row10_col4\" class=\"data row10 col4\" >1</td>\n",
       "                        <td id=\"T_e34d1933_b4f2_11eb_b691_3024a9882581row10_col5\" class=\"data row10 col5\" >1</td>\n",
       "                        <td id=\"T_e34d1933_b4f2_11eb_b691_3024a9882581row10_col6\" class=\"data row10 col6\" >1</td>\n",
       "                        <td id=\"T_e34d1933_b4f2_11eb_b691_3024a9882581row10_col7\" class=\"data row10 col7\" >1</td>\n",
       "            </tr>\n",
       "    </tbody></table>"
      ],
      "text/plain": [
       "<pandas.io.formats.style.Styler at 0x28a388c72b0>"
      ]
     },
     "execution_count": 31,
     "metadata": {},
     "output_type": "execute_result"
    }
   ],
   "source": [
    "df.describe().transpose().style.format(\"{0:,.0f}\")"
   ]
  },
  {
   "cell_type": "code",
   "execution_count": 55,
   "metadata": {
    "ExecuteTime": {
     "end_time": "2021-05-14T20:50:38.990888Z",
     "start_time": "2021-05-14T20:50:38.920239Z"
    }
   },
   "outputs": [],
   "source": [
    "# fun.df_distribution(df)"
   ]
  },
  {
   "cell_type": "markdown",
   "metadata": {},
   "source": [
    "target"
   ]
  },
  {
   "cell_type": "code",
   "execution_count": 33,
   "metadata": {
    "ExecuteTime": {
     "end_time": "2021-05-14T20:28:05.480835Z",
     "start_time": "2021-05-14T20:28:05.422828Z"
    }
   },
   "outputs": [],
   "source": [
    "# empty list to hold data\n",
    "lst = []\n",
    "for x in zip(df.targeted_productivity, df.actual_productivity):\n",
    "    # % change in variables\n",
    "    delta = np.log(x[1] / x[0])\n",
    "    if delta < 0:\n",
    "        lst.append('below')\n",
    "    elif 0 <= delta < .25:\n",
    "        lst.append('met')\n",
    "    elif delta >= .25:\n",
    "        lst.append('above')\n",
    "    # error hadeler\n",
    "    else:\n",
    "        lst.append('?')\n",
    "df['goal'] = lst"
   ]
  },
  {
   "cell_type": "markdown",
   "metadata": {},
   "source": [
    "wip"
   ]
  },
  {
   "cell_type": "code",
   "execution_count": 34,
   "metadata": {
    "ExecuteTime": {
     "end_time": "2021-05-14T20:28:05.542733Z",
     "start_time": "2021-05-14T20:28:05.482834Z"
    }
   },
   "outputs": [],
   "source": [
    "# filling NaN's with 0, meaning no wip for that session\n",
    "df['wip'] = df['wip'].fillna(0)\n",
    "# intervals for binning\n",
    "bins = pd.IntervalIndex.from_tuples([(0, 1), (1, 150), (150, 500), (500, 2500),\n",
    "                                     (2500, 1e6)],\n",
    "                                    closed='left')\n",
    "# binning\n",
    "wip_size = pd.cut(df['wip'].tolist(), bins=bins)\n",
    "# naming categories\n",
    "wip_size.categories = ['no_wip', 'small', 'med', 'large', 'xl']\n",
    "# appending to df\n",
    "df['wip_size'] = wip_size"
   ]
  },
  {
   "cell_type": "markdown",
   "metadata": {},
   "source": [
    "text cleaning"
   ]
  },
  {
   "cell_type": "code",
   "execution_count": 35,
   "metadata": {
    "ExecuteTime": {
     "end_time": "2021-05-14T20:28:05.604747Z",
     "start_time": "2021-05-14T20:28:05.543727Z"
    }
   },
   "outputs": [
    {
     "data": {
      "text/plain": [
       "sweing       691\n",
       "finishing    506\n",
       "Name: department, dtype: int64"
      ]
     },
     "execution_count": 35,
     "metadata": {},
     "output_type": "execute_result"
    }
   ],
   "source": [
    "# cleaning spaces\n",
    "df['department'] = df['department'].str.strip()\n",
    "# checking\n",
    "df['department'].value_counts()"
   ]
  },
  {
   "cell_type": "markdown",
   "metadata": {
    "ExecuteTime": {
     "end_time": "2021-05-14T20:11:49.112406Z",
     "start_time": "2021-05-14T20:11:49.059411Z"
    }
   },
   "source": [
    "drop"
   ]
  },
  {
   "cell_type": "code",
   "execution_count": 36,
   "metadata": {
    "ExecuteTime": {
     "end_time": "2021-05-14T20:28:05.666766Z",
     "start_time": "2021-05-14T20:28:05.605741Z"
    }
   },
   "outputs": [],
   "source": [
    "df.drop(columns=['date', 'wip', 'actual_productivity'], inplace=True)"
   ]
  },
  {
   "cell_type": "markdown",
   "metadata": {},
   "source": [
    "split"
   ]
  },
  {
   "cell_type": "code",
   "execution_count": 46,
   "metadata": {
    "ExecuteTime": {
     "end_time": "2021-05-14T20:32:22.712663Z",
     "start_time": "2021-05-14T20:32:22.648000Z"
    }
   },
   "outputs": [],
   "source": [
    "X = df.drop(columns='goal').copy()\n",
    "y = df[['goal']]\n",
    "\n",
    "X_train, y_train, X_test, y_test = train_test_split(X,y,test_size=.25)"
   ]
  },
  {
   "cell_type": "code",
   "execution_count": null,
   "metadata": {},
   "outputs": [],
   "source": [
    "# OHE\n",
    "# Scaling\n",
    "# Pipelineing\n",
    "# dummy model\n",
    "# logistic regression\n",
    "# grid search CV\n",
    "# ensamble methods\n",
    "# SVM"
   ]
  },
  {
   "cell_type": "markdown",
   "metadata": {},
   "source": [
    "MODEL\n",
    "INTERPRET\n",
    "RECOMMENDATION"
   ]
  },
  {
   "cell_type": "code",
   "execution_count": null,
   "metadata": {},
   "outputs": [],
   "source": []
  }
 ],
 "metadata": {
  "kernelspec": {
   "display_name": "Python 3",
   "language": "python",
   "name": "python3"
  },
  "language_info": {
   "codemirror_mode": {
    "name": "ipython",
    "version": 3
   },
   "file_extension": ".py",
   "mimetype": "text/x-python",
   "name": "python",
   "nbconvert_exporter": "python",
   "pygments_lexer": "ipython3",
   "version": "3.8.5"
  },
  "toc": {
   "base_numbering": 1,
   "nav_menu": {},
   "number_sections": true,
   "sideBar": true,
   "skip_h1_title": false,
   "title_cell": "Table of Contents",
   "title_sidebar": "Contents",
   "toc_cell": false,
   "toc_position": {},
   "toc_section_display": true,
   "toc_window_display": true
  }
 },
 "nbformat": 4,
 "nbformat_minor": 4
}
